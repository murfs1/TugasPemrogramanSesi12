{
 "cells": [
  {
   "cell_type": "code",
   "execution_count": 1,
   "id": "8a64cc8a",
   "metadata": {},
   "outputs": [],
   "source": [
    "def count_uppercase(text):\n",
    "    count = 0\n",
    "    \n",
    "    for char in text:\n",
    "        if char.isupper():\n",
    "            count += 1\n",
    "\n",
    "    return count"
   ]
  },
  {
   "cell_type": "code",
   "execution_count": 3,
   "id": "512a3ad2",
   "metadata": {},
   "outputs": [
    {
     "name": "stdout",
     "output_type": "stream",
     "text": [
      "Masukan text: Udin\n",
      "Udin\n",
      "Jumlah huruf besar:  1\n"
     ]
    }
   ],
   "source": [
    "import uppercase_counter\n",
    "\n",
    "text = input(\"Masukan text: \")\n",
    "uppercase = uppercase_counter.count_uppercase(text);\n",
    "print(text)\n",
    "print(\"Jumlah huruf besar: \", uppercase)"
   ]
  }
 ],
 "metadata": {
  "kernelspec": {
   "display_name": "Python 3 (ipykernel)",
   "language": "python",
   "name": "python3"
  },
  "language_info": {
   "codemirror_mode": {
    "name": "ipython",
    "version": 3
   },
   "file_extension": ".py",
   "mimetype": "text/x-python",
   "name": "python",
   "nbconvert_exporter": "python",
   "pygments_lexer": "ipython3",
   "version": "3.9.12"
  }
 },
 "nbformat": 4,
 "nbformat_minor": 5
}
